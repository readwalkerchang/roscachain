{
 "cells": [
  {
   "cell_type": "code",
   "execution_count": 11,
   "metadata": {},
   "outputs": [],
   "source": [
    "from userAccount import *\n",
    "import json\n",
    "import os\n",
    "from datetime import datetime\n",
    "from  blockchain import Blockchain\n"
   ]
  },
  {
   "cell_type": "markdown",
   "metadata": {},
   "source": [
    "### 1. How a Merkle tree works?"
   ]
  },
  {
   "cell_type": "code",
   "execution_count": 10,
   "metadata": {},
   "outputs": [
    {
     "ename": "NameError",
     "evalue": "name 'userAccount' is not defined",
     "output_type": "error",
     "traceback": [
      "\u001b[1;31m---------------------------------------------------------------------------\u001b[0m",
      "\u001b[1;31mNameError\u001b[0m                                 Traceback (most recent call last)",
      "\u001b[1;32m~\\AppData\\Local\\Temp\\ipykernel_10168\\778470886.py\u001b[0m in \u001b[0;36m<module>\u001b[1;34m\u001b[0m\n\u001b[0;32m      4\u001b[0m \u001b[0muser4\u001b[0m \u001b[1;33m=\u001b[0m \u001b[0mcreateUserDB\u001b[0m\u001b[1;33m(\u001b[0m\u001b[1;34m'Jason'\u001b[0m\u001b[1;33m)\u001b[0m\u001b[1;33m\u001b[0m\u001b[1;33m\u001b[0m\u001b[0m\n\u001b[0;32m      5\u001b[0m \u001b[0muser5\u001b[0m \u001b[1;33m=\u001b[0m \u001b[0mcreateUserDB\u001b[0m\u001b[1;33m(\u001b[0m\u001b[1;34m'Zoey'\u001b[0m\u001b[1;33m)\u001b[0m\u001b[1;33m\u001b[0m\u001b[1;33m\u001b[0m\u001b[0m\n\u001b[1;32m----> 6\u001b[1;33m \u001b[0mpool\u001b[0m  \u001b[1;33m=\u001b[0m \u001b[0muserAccount\u001b[0m\u001b[1;33m.\u001b[0m\u001b[0mcreatePoolDB\u001b[0m\u001b[1;33m(\u001b[0m\u001b[1;33m)\u001b[0m\u001b[1;33m\u001b[0m\u001b[1;33m\u001b[0m\u001b[0m\n\u001b[0m\u001b[0;32m      7\u001b[0m \u001b[1;33m\u001b[0m\u001b[0m\n\u001b[0;32m      8\u001b[0m \u001b[1;33m\u001b[0m\u001b[0m\n",
      "\u001b[1;31mNameError\u001b[0m: name 'userAccount' is not defined"
     ]
    }
   ],
   "source": [
    "\n",
    "user1 = createUserDB('Bob')\n",
    "user2 = createUserDB('Amy')\n",
    "user3 = createUserDB('Lisa')\n",
    "user4 = createUserDB('Jason')\n",
    "user5 = createUserDB('Zoey')\n",
    "pool  = createPoolDB()\n",
    "\n",
    "\n",
    "listToHash1 = []\n",
    "listToHash1.append(sendCurrency(user1,user2,10))\n",
    "listToHash1.append(sendCurrency(user2,user1,10))\n",
    "listToHash1.append(sendCurrency(user3,user4,10))\n",
    "listToHash1.append(sendCurrency(user4,user3,10))\n",
    "listToHash1.append(sendCurrency(user5,user1,10))\n",
    "listToHash1.append(sendCurrency(user1,user5,10))\n",
    "\n",
    "s = Blockchain()\n",
    "s.addBlock(listToHash1)\n",
    "blockdict = s.head.__dict__\n",
    "writeJsonBlock(blockdict)\n",
    "print(blockdict)"
   ]
  },
  {
   "cell_type": "code",
   "execution_count": null,
   "metadata": {},
   "outputs": [
    {
     "name": "stdout",
     "output_type": "stream",
     "text": [
      "C:\\Program Files\\WindowsApps\\PythonSoftwareFoundation.Python.3.7_3.7.2544.0_x64__qbz5n2kfra8p0\n"
     ]
    }
   ],
   "source": [
    "import sys\n",
    "\n",
    "locate_python = sys.exec_prefix\n",
    "\n",
    "print(locate_python)"
   ]
  }
 ],
 "metadata": {
  "kernelspec": {
   "display_name": "Python 3.7.9 64-bit (windows store)",
   "language": "python",
   "name": "python3"
  },
  "language_info": {
   "codemirror_mode": {
    "name": "ipython",
    "version": 3
   },
   "file_extension": ".py",
   "mimetype": "text/x-python",
   "name": "python",
   "nbconvert_exporter": "python",
   "pygments_lexer": "ipython3",
   "version": "3.7.9"
  },
  "orig_nbformat": 4,
  "vscode": {
   "interpreter": {
    "hash": "9e84a28207fa3142fac91e47ec837e61497af1bc9f5436c38cd37de1c35b8cea"
   }
  }
 },
 "nbformat": 4,
 "nbformat_minor": 2
}
