{
 "cells": [
  {
   "cell_type": "code",
   "execution_count": 1,
   "metadata": {},
   "outputs": [],
   "source": [
    "from userAccount import *\n",
    "import json\n",
    "import os\n",
    "from datetime import datetime\n",
    "from  blockchain import Blockchain\n",
    "import numpy as np\n",
    "data1 = np.loadtxt(\"data.csv\")"
   ]
  },
  {
   "cell_type": "code",
   "execution_count": 2,
   "metadata": {},
   "outputs": [
    {
     "name": "stdout",
     "output_type": "stream",
     "text": [
      "25.37688442211055\n"
     ]
    }
   ],
   "source": [
    "print(data1[101])"
   ]
  },
  {
   "cell_type": "markdown",
   "metadata": {},
   "source": [
    "### Create a block with transactions and rootHash"
   ]
  },
  {
   "cell_type": "code",
   "execution_count": 3,
   "metadata": {},
   "outputs": [],
   "source": [
    "\n",
    "user1 = createUserDB('Bob',data1[101])\n",
    "user2 = createUserDB('Amy',data1[102])\n",
    "user3 = createUserDB('Lisa',data1[103])\n",
    "user4 = createUserDB('Jason',data1[104])\n",
    "user5 = createUserDB('Zoey',data1[105])\n",
    "pool = createPoolDB()\n",
    "\n",
    "\n",
    "# listToHash1 = []\n",
    "# listToHash1.append(sendCurrency(user1,user2,10))\n",
    "# listToHash1.append(sendCurrency(user2,user1,10))\n",
    "# listToHash1.append(sendCurrency(user3,user4,10))\n",
    "# listToHash1.append(sendCurrency(user4,user3,10))\n",
    "# listToHash1.append(sendCurrency(user5,user1,10))\n",
    "# listToHash1.append(sendCurrency(user1,user5,10))\n",
    "\n",
    "# s = Blockchain()\n",
    "# s.addBlock(listToHash1)\n",
    "# blockdict = s.head.__dict__\n",
    "# writeJsonBlock(blockdict)\n",
    "# print(blockdict)"
   ]
  },
  {
   "cell_type": "markdown",
   "metadata": {},
   "source": [
    "### Run a ROSCA and update trust value"
   ]
  },
  {
   "cell_type": "code",
   "execution_count": 4,
   "metadata": {},
   "outputs": [
    {
     "name": "stdout",
     "output_type": "stream",
     "text": [
      "the 1 meeting\n"
     ]
    },
    {
     "ename": "TypeError",
     "evalue": "biding() missing 1 required positional argument: 'bidinglist'",
     "output_type": "error",
     "traceback": [
      "\u001b[1;31m---------------------------------------------------------------------------\u001b[0m",
      "\u001b[1;31mTypeError\u001b[0m                                 Traceback (most recent call last)",
      "\u001b[1;32m~\\AppData\\Local\\Temp\\ipykernel_12920\\4064501917.py\u001b[0m in \u001b[0;36m<module>\u001b[1;34m\u001b[0m\n\u001b[0;32m      1\u001b[0m \u001b[0muserlist\u001b[0m \u001b[1;33m=\u001b[0m \u001b[1;33m[\u001b[0m\u001b[0muser1\u001b[0m\u001b[1;33m,\u001b[0m \u001b[0muser2\u001b[0m\u001b[1;33m,\u001b[0m \u001b[0muser3\u001b[0m\u001b[1;33m,\u001b[0m \u001b[0muser4\u001b[0m\u001b[1;33m,\u001b[0m \u001b[0muser5\u001b[0m\u001b[1;33m]\u001b[0m\u001b[1;33m\u001b[0m\u001b[1;33m\u001b[0m\u001b[0m\n\u001b[1;32m----> 2\u001b[1;33m \u001b[0mrunROSCA\u001b[0m\u001b[1;33m(\u001b[0m\u001b[1;36m5\u001b[0m\u001b[1;33m,\u001b[0m\u001b[1;36m10\u001b[0m\u001b[1;33m,\u001b[0m\u001b[0muserlist\u001b[0m\u001b[1;33m)\u001b[0m\u001b[1;33m\u001b[0m\u001b[1;33m\u001b[0m\u001b[0m\n\u001b[0m",
      "\u001b[1;32mc:\\Users\\Dusing.Chang\\Documents\\roscachain\\userAccount.py\u001b[0m in \u001b[0;36mrunROSCA\u001b[1;34m(meetingTimes, amount, userList)\u001b[0m\n\u001b[0;32m     80\u001b[0m         \u001b[1;31m# findWinner()\u001b[0m\u001b[1;33m\u001b[0m\u001b[1;33m\u001b[0m\u001b[1;33m\u001b[0m\u001b[0m\n\u001b[0;32m     81\u001b[0m         \u001b[1;31m#print('the ' winner is meeting')\u001b[0m\u001b[1;33m\u001b[0m\u001b[1;33m\u001b[0m\u001b[1;33m\u001b[0m\u001b[0m\n\u001b[1;32m---> 82\u001b[1;33m         \u001b[0mbiding\u001b[0m\u001b[1;33m(\u001b[0m\u001b[1;33m)\u001b[0m\u001b[1;33m\u001b[0m\u001b[1;33m\u001b[0m\u001b[0m\n\u001b[0m\u001b[0;32m     83\u001b[0m         \u001b[1;32mfor\u001b[0m \u001b[0my\u001b[0m \u001b[1;32min\u001b[0m \u001b[0muserList\u001b[0m\u001b[1;33m:\u001b[0m\u001b[1;33m\u001b[0m\u001b[1;33m\u001b[0m\u001b[0m\n\u001b[0;32m     84\u001b[0m             \u001b[1;32mif\u001b[0m \u001b[0msendCurrency\u001b[0m\u001b[1;33m(\u001b[0m\u001b[0my\u001b[0m\u001b[1;33m,\u001b[0m\u001b[0mnewPool\u001b[0m\u001b[1;33m,\u001b[0m\u001b[0mamount\u001b[0m\u001b[1;33m)\u001b[0m\u001b[1;33m:\u001b[0m\u001b[1;33m\u001b[0m\u001b[1;33m\u001b[0m\u001b[0m\n",
      "\u001b[1;31mTypeError\u001b[0m: biding() missing 1 required positional argument: 'bidinglist'"
     ]
    }
   ],
   "source": [
    "userlist = [user1, user2, user3, user4, user5]  \n",
    "runROSCA(5,10,userlist)"
   ]
  }
 ],
 "metadata": {
  "interpreter": {
   "hash": "9e84a28207fa3142fac91e47ec837e61497af1bc9f5436c38cd37de1c35b8cea"
  },
  "kernelspec": {
   "display_name": "Python 3 (ipykernel)",
   "language": "python",
   "name": "python3"
  },
  "language_info": {
   "codemirror_mode": {
    "name": "ipython",
    "version": 3
   },
   "file_extension": ".py",
   "mimetype": "text/x-python",
   "name": "python",
   "nbconvert_exporter": "python",
   "pygments_lexer": "ipython3",
   "version": "3.7.9"
  }
 },
 "nbformat": 4,
 "nbformat_minor": 2
}
