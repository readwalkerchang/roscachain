{
 "cells": [
  {
   "cell_type": "code",
   "execution_count": 4,
   "metadata": {},
   "outputs": [],
   "source": [
    "from userAccount import *\n",
    "import json\n",
    "import os\n",
    "from datetime import datetime\n",
    "from  blockchain import Blockchain\n",
    "import numpy as np\n",
    "data1 = np.loadtxt(\"data.csv\")"
   ]
  },
  {
   "cell_type": "markdown",
   "metadata": {},
   "source": [
    "### Create a block with transactions and rootHash"
   ]
  },
  {
   "cell_type": "code",
   "execution_count": 5,
   "metadata": {},
   "outputs": [
    {
     "name": "stdout",
     "output_type": "stream",
     "text": [
      "{'block': {}, 'transactions': ('Bob pay pool 2022-07-28 23:07:41.856763', 'Amy pay pool 2022-07-28 23:07:41.857765', 'Lisa pay pool 2022-07-28 23:07:41.858762', 'Jason pay pool 2022-07-28 23:07:41.860766', 'Zoey pay pool 2022-07-28 23:07:41.861764'), 'next': None, 'rootHash': '6e917d3f58e6caf1dac03f3ef1c4afd25042d81ee99c92f1dd3027fa0aab740f'}\n"
     ]
    }
   ],
   "source": [
    "\n",
    "user1 = createUserDB('Bob',data1[101])\n",
    "user2 = createUserDB('Amy',data1[102])\n",
    "user3 = createUserDB('Lisa',data1[103])\n",
    "user4 = createUserDB('Jason',data1[104])\n",
    "user5 = createUserDB('Zoey',data1[105])\n",
    "pool = createPoolDB()\n",
    "\n",
    "\n",
    "listToHash1 = []\n",
    "listToHash1.append(sendCurrency(user1,pool,1000))\n",
    "listToHash1.append(sendCurrency(user2,pool,1000))\n",
    "listToHash1.append(sendCurrency(user3,pool,1000))\n",
    "listToHash1.append(sendCurrency(user4,pool,1000))\n",
    "listToHash1.append(sendCurrency(user5,pool,1000))\n",
    "\n",
    "\n",
    "s = Blockchain()\n",
    "s.addBlock(listToHash1)\n",
    "blockdict = s.head.__dict__\n",
    "writeJsonBlock(blockdict)\n",
    "print(blockdict)"
   ]
  },
  {
   "cell_type": "markdown",
   "metadata": {},
   "source": [
    "### Run a ROSCA and update trust value"
   ]
  },
  {
   "cell_type": "code",
   "execution_count": 6,
   "metadata": {},
   "outputs": [
    {
     "name": "stdout",
     "output_type": "stream",
     "text": [
      "the 1 meeting\n",
      "Pay success \n",
      "Pay success \n",
      "Pay success \n",
      "Pay success \n",
      "the winner is:  Bob\n",
      "[{'name': 'Amy', 'trustValue': 26.628140703517587, 'address': '', 'balance': 4990, 'bidingPrice': 0}, {'name': 'Lisa', 'trustValue': 26.87939698492462, 'address': '', 'balance': 4990, 'bidingPrice': 0}, {'name': 'Jason', 'trustValue': 27.130653266331656, 'address': '', 'balance': 4990, 'bidingPrice': 0}, {'name': 'Zoey', 'trustValue': 27.38190954773869, 'address': '', 'balance': 4990, 'bidingPrice': 0}]\n",
      "[{'name': 'Bob', 'trustValue': 26.37688442211055, 'address': '', 'balance': 5040, 'bidingPrice': 0}, {'name': 'Amy', 'trustValue': 26.628140703517587, 'address': '', 'balance': 4990, 'bidingPrice': 0}, {'name': 'Lisa', 'trustValue': 26.87939698492462, 'address': '', 'balance': 4990, 'bidingPrice': 0}, {'name': 'Jason', 'trustValue': 27.130653266331656, 'address': '', 'balance': 4990, 'bidingPrice': 0}, {'name': 'Zoey', 'trustValue': 27.38190954773869, 'address': '', 'balance': 4990, 'bidingPrice': 0}]\n",
      "the 2 meeting\n",
      "Pay success\n",
      "Pay success \n",
      "Pay success \n",
      "Pay success \n",
      "the winner is:  Jason\n",
      "[{'name': 'Amy', 'trustValue': 27.628140703517587, 'address': '', 'balance': 5270, 'bidingPrice': 101}, {'name': 'Lisa', 'trustValue': 27.87939698492462, 'address': '', 'balance': 5270, 'bidingPrice': 265}, {'name': 'Zoey', 'trustValue': 28.38190954773869, 'address': '', 'balance': 5270, 'bidingPrice': 145}]\n",
      "[{'name': 'Bob', 'trustValue': 27.37688442211055, 'address': '', 'balance': 5030, 'bidingPrice': 0}, {'name': 'Jason', 'trustValue': 28.130653266331656, 'address': '', 'balance': 4160, 'bidingPrice': 290}, {'name': 'Amy', 'trustValue': 27.628140703517587, 'address': '', 'balance': 5270, 'bidingPrice': 101}, {'name': 'Lisa', 'trustValue': 27.87939698492462, 'address': '', 'balance': 5270, 'bidingPrice': 265}, {'name': 'Zoey', 'trustValue': 28.38190954773869, 'address': '', 'balance': 5270, 'bidingPrice': 145}]\n",
      "the 3 meeting\n",
      "Pay success\n",
      "Pay success\n",
      "Pay success \n",
      "Pay success \n",
      "the winner is:  Zoey\n",
      "[{'name': 'Amy', 'trustValue': 28.628140703517587, 'address': '', 'balance': 5403, 'bidingPrice': 139}, {'name': 'Lisa', 'trustValue': 28.87939698492462, 'address': '', 'balance': 5403, 'bidingPrice': 128}]\n",
      "[{'name': 'Bob', 'trustValue': 28.37688442211055, 'address': '', 'balance': 5020, 'bidingPrice': 0}, {'name': 'Jason', 'trustValue': 29.130653266331656, 'address': '', 'balance': 4150, 'bidingPrice': 290}, {'name': 'Zoey', 'trustValue': 29.38190954773869, 'address': '', 'balance': 5024, 'bidingPrice': 143}, {'name': 'Amy', 'trustValue': 28.628140703517587, 'address': '', 'balance': 5403, 'bidingPrice': 139}, {'name': 'Lisa', 'trustValue': 28.87939698492462, 'address': '', 'balance': 5403, 'bidingPrice': 128}]\n",
      "the 4 meeting\n",
      "Pay success\n",
      "Pay success\n",
      "Pay success\n",
      "the winner is:  Amy\n",
      "[{'name': 'Lisa', 'trustValue': 29.87939698492462, 'address': '', 'balance': 5403, 'bidingPrice': 206}]\n",
      "[{'name': 'Bob', 'trustValue': 29.37688442211055, 'address': '', 'balance': 5010, 'bidingPrice': 0}, {'name': 'Jason', 'trustValue': 30.130653266331656, 'address': '', 'balance': 4140, 'bidingPrice': 290}, {'name': 'Zoey', 'trustValue': 30.38190954773869, 'address': '', 'balance': 5014, 'bidingPrice': 143}, {'name': 'Amy', 'trustValue': 29.628140703517587, 'address': '', 'balance': 5433, 'bidingPrice': 267}, {'name': 'Lisa', 'trustValue': 29.87939698492462, 'address': '', 'balance': 5403, 'bidingPrice': 206}]\n",
      "the 5 meeting\n",
      "Pay success\n",
      "Pay success\n",
      "Pay success\n",
      "Pay success\n",
      "the winner is:  Lisa\n",
      "[]\n",
      "[{'name': 'Bob', 'trustValue': 30.37688442211055, 'address': '', 'balance': 5000, 'bidingPrice': 0}, {'name': 'Jason', 'trustValue': 31.130653266331656, 'address': '', 'balance': 4130, 'bidingPrice': 290}, {'name': 'Zoey', 'trustValue': 31.38190954773869, 'address': '', 'balance': 5004, 'bidingPrice': 143}, {'name': 'Amy', 'trustValue': 30.628140703517587, 'address': '', 'balance': 5423, 'bidingPrice': 267}, {'name': 'Lisa', 'trustValue': 30.87939698492462, 'address': '', 'balance': 5443, 'bidingPrice': 175}]\n"
     ]
    },
    {
     "ename": "",
     "evalue": "",
     "output_type": "error",
     "traceback": [
      "\u001b[1;31mThe Kernel crashed while executing code in the the current cell or a previous cell. Please review the code in the cell(s) to identify a possible cause of the failure. Click <a href='https://aka.ms/vscodeJupyterKernelCrash'>here</a> for more info. View Jupyter <a href='command:jupyter.viewOutput'>log</a> for further details."
     ]
    }
   ],
   "source": [
    "userlist = [user1, user2, user3, user4, user5]  \n",
    "runROSCA(5,10,userlist)"
   ]
  }
 ],
 "metadata": {
  "interpreter": {
   "hash": "9e84a28207fa3142fac91e47ec837e61497af1bc9f5436c38cd37de1c35b8cea"
  },
  "kernelspec": {
   "display_name": "Python 3 (ipykernel)",
   "language": "python",
   "name": "python3"
  },
  "language_info": {
   "codemirror_mode": {
    "name": "ipython",
    "version": 3
   },
   "file_extension": ".py",
   "mimetype": "text/x-python",
   "name": "python",
   "nbconvert_exporter": "python",
   "pygments_lexer": "ipython3",
   "version": "3.7.9"
  }
 },
 "nbformat": 4,
 "nbformat_minor": 2
}
