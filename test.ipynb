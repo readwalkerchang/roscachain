{
 "cells": [
  {
   "cell_type": "code",
   "execution_count": 7,
   "metadata": {},
   "outputs": [],
   "source": [
    "from userAccount import User\n",
    "from userAccount import Pool\n",
    "import json\n",
    "import os\n",
    "from datetime import datetime\n",
    "from  blockchain import Blockchain\n",
    "\n",
    "# create 5 accounts\n",
    "\n",
    "def writeJson(userDict:dict):\n",
    "    #1. create a file with user's name\n",
    "    jsonStr = json.dumps(userDict)\n",
    "    save_path = 'data'\n",
    "    file_name = json.loads(jsonStr)['name'] + '.json'\n",
    "    completeName = os.path.join(save_path, file_name)\n",
    "    #2. put the account message into the file\n",
    "    with open(completeName, \"w\") as f :\n",
    "        f.write(jsonStr)\n",
    "\n",
    "def writeJsonBlock(blockdict:dict):\n",
    "    #1. create a file with user's name\n",
    "    jsonStr = json.dumps(blockdict, indent=4 )\n",
    "    save_path = 'data'\n",
    "    file_name = 'block.json'\n",
    "    completeName = os.path.join(save_path, file_name)\n",
    "    #2. put the account message into the file\n",
    "    with open(completeName, \"w\") as f :\n",
    "        f.write(jsonStr)\n",
    "\n",
    "def createUserDB(userName:str):\n",
    "    #1. create a file with user's name\n",
    "    newUser = User(userName).__dict__\n",
    "    jsonStr = json.dumps(newUser)\n",
    "    save_path = 'data'\n",
    "    file_name = json.loads(jsonStr)['name'] + '.json'\n",
    "    completeName = os.path.join(save_path, file_name)\n",
    "    #2. put the account message into the file\n",
    "    with open(completeName, \"w\") as f :\n",
    "        f.write(jsonStr)\n",
    "    return newUser\n",
    "\n",
    "def createPoolDB():\n",
    "    #1. create a file with user's name\n",
    "    newPool = Pool().__dict__\n",
    "    jsonStr = json.dumps(newPool)\n",
    "    save_path = 'data'\n",
    "    file_name = json.loads(jsonStr)['name'] + '.json'\n",
    "    completeName = os.path.join(save_path, file_name)\n",
    "    #2. put the account message into the file\n",
    "    with open(completeName, \"w\") as f :\n",
    "        f.write(jsonStr)\n",
    "    return newPool\n",
    "\n",
    "def sendCurrency(sender:object,receiver:object,amount:int):\n",
    "     senderBalance = int(sender['balance']) \n",
    "     sender['balance'] = senderBalance - amount\n",
    "     receiverBalance = int(receiver['balance'] )\n",
    "     receiver['balance'] = receiverBalance + amount\n",
    "     writeJson(sender)\n",
    "     writeJson(receiver)\n",
    "     #return transaction data\n",
    "     dt = datetime.now()\n",
    "     return \"{sender} pay {receiver} {timeStamp}\".format(sender = sender['name'] ,receiver = receiver['name'], timeStamp = str(dt))\n",
    "\n",
    "def runROSCA(meetingTimes:int, amount:int, userList:list):\n",
    "    newPool = createPoolDB()\n",
    "    for x in range(meetingTimes):\n",
    "        print('the ' +str(x+1)+' meeting')\n",
    "        for y in userList:\n",
    "            if sendCurrency(y,newPool,amount):\n",
    "                print('Pay success ')\n",
    "        sendCurrency(newPool,userList[x],newPool['balance'])\n",
    "        #update trust value\n",
    "        winner = userList[x]\n",
    "        trustvalue =  (x+1)/10\n",
    "        winner['trustValue'] += trustvalue\n",
    "        writeJson(winner)\n",
    "        print(winner['name']+'is winner')"
   ]
  },
  {
   "cell_type": "markdown",
   "metadata": {},
   "source": [
    "### Create a block with transactions and rootHash"
   ]
  },
  {
   "cell_type": "code",
   "execution_count": 8,
   "metadata": {},
   "outputs": [
    {
     "name": "stdout",
     "output_type": "stream",
     "text": [
      "{'transactions': ('Bob pay Amy 2022-05-11 21:35:45.499894', 'Amy pay Bob 2022-05-11 21:35:45.501884', 'Lisa pay Jason 2022-05-11 21:35:45.502861', 'Jason pay Lisa 2022-05-11 21:35:45.504866', 'Zoey pay Bob 2022-05-11 21:35:45.505863', 'Bob pay Zoey 2022-05-11 21:35:45.506879'), 'next': None, 'rootHash': '0083ef28c925bc51cacc855296f385357d2be60a3ff1038cb033bc73c89e8315'}\n"
     ]
    }
   ],
   "source": [
    "\n",
    "user1 = createUserDB('Bob')\n",
    "user2 = createUserDB('Amy')\n",
    "user3 = createUserDB('Lisa')\n",
    "user4 = createUserDB('Jason')\n",
    "user5 = createUserDB('Zoey')\n",
    "pool = createPoolDB()\n",
    "\n",
    "\n",
    "listToHash1 = []\n",
    "listToHash1.append(sendCurrency(user1,user2,10))\n",
    "listToHash1.append(sendCurrency(user2,user1,10))\n",
    "listToHash1.append(sendCurrency(user3,user4,10))\n",
    "listToHash1.append(sendCurrency(user4,user3,10))\n",
    "listToHash1.append(sendCurrency(user5,user1,10))\n",
    "listToHash1.append(sendCurrency(user1,user5,10))\n",
    "\n",
    "s = Blockchain()\n",
    "s.addBlock(listToHash1)\n",
    "blockdict = s.head.__dict__\n",
    "writeJsonBlock(blockdict)\n",
    "print(blockdict)"
   ]
  },
  {
   "cell_type": "markdown",
   "metadata": {},
   "source": [
    "### Run a ROSCA and update trust value"
   ]
  },
  {
   "cell_type": "code",
   "execution_count": 9,
   "metadata": {},
   "outputs": [
    {
     "name": "stdout",
     "output_type": "stream",
     "text": [
      "the 1 meeting\n",
      "Pay success \n",
      "Pay success \n",
      "Pay success \n",
      "Pay success \n",
      "Pay success \n",
      "Bobis winner\n",
      "the 2 meeting\n",
      "Pay success \n",
      "Pay success \n",
      "Pay success \n",
      "Pay success \n",
      "Pay success \n",
      "Amyis winner\n",
      "the 3 meeting\n",
      "Pay success \n",
      "Pay success \n",
      "Pay success \n",
      "Pay success \n",
      "Pay success \n",
      "Lisais winner\n",
      "the 4 meeting\n",
      "Pay success \n",
      "Pay success \n",
      "Pay success \n",
      "Pay success \n",
      "Pay success \n",
      "Jasonis winner\n",
      "the 5 meeting\n",
      "Pay success \n",
      "Pay success \n",
      "Pay success \n",
      "Pay success \n",
      "Pay success \n",
      "Zoeyis winner\n"
     ]
    }
   ],
   "source": [
    "userlist = [user1, user2, user3, user4, user5]\n",
    "runROSCA(5,10,userlist)"
   ]
  },
  {
   "cell_type": "code",
   "execution_count": null,
   "metadata": {},
   "outputs": [],
   "source": []
  }
 ],
 "metadata": {
  "interpreter": {
   "hash": "9e84a28207fa3142fac91e47ec837e61497af1bc9f5436c38cd37de1c35b8cea"
  },
  "kernelspec": {
   "display_name": "Python 3 (ipykernel)",
   "language": "python",
   "name": "python3"
  },
  "language_info": {
   "codemirror_mode": {
    "name": "ipython",
    "version": 3
   },
   "file_extension": ".py",
   "mimetype": "text/x-python",
   "name": "python",
   "nbconvert_exporter": "python",
   "pygments_lexer": "ipython3",
   "version": "3.9.7"
  }
 },
 "nbformat": 4,
 "nbformat_minor": 2
}
