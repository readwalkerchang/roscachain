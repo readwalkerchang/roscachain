{
 "cells": [
  {
   "cell_type": "code",
   "execution_count": 8,
   "metadata": {},
   "outputs": [],
   "source": [
    "from userAccount import *\n",
    "import json\n",
    "import os\n",
    "from datetime import datetime\n",
    "from  blockchain import Blockchain\n",
    "import numpy as np\n",
    "data1 = np.loadtxt(\"data.csv\")"
   ]
  },
  {
   "cell_type": "code",
   "execution_count": 9,
   "metadata": {},
   "outputs": [
    {
     "name": "stdout",
     "output_type": "stream",
     "text": [
      "25.37688442211055\n"
     ]
    }
   ],
   "source": [
    "print(data1[101])"
   ]
  },
  {
   "cell_type": "markdown",
   "metadata": {},
   "source": [
    "### Create a block with transactions and rootHash"
   ]
  },
  {
   "cell_type": "code",
   "execution_count": 5,
   "metadata": {},
   "outputs": [
    {
     "name": "stdout",
     "output_type": "stream",
     "text": [
      "{'block': {}, 'transactions': ('Bob pay Amy 2022-07-28 12:51:11.576449', 'Amy pay Bob 2022-07-28 12:51:11.578450', 'Lisa pay Jason 2022-07-28 12:51:11.579449', 'Jason pay Lisa 2022-07-28 12:51:11.580450', 'Zoey pay Bob 2022-07-28 12:51:11.581450', 'Bob pay Zoey 2022-07-28 12:51:11.584453'), 'next': None, 'rootHash': 'caa1e57dfddcfd11611e910feecb45a6aebf135f0ade7699878433841eb9ad9d'}\n"
     ]
    }
   ],
   "source": [
    "\n",
    "user1 = createUserDB('Bob',data1[101])\n",
    "user2 = createUserDB('Amy',data1[102])\n",
    "user3 = createUserDB('Lisa',data1[103])\n",
    "user4 = createUserDB('Jason',data1[104])\n",
    "user5 = createUserDB('Zoey',data1[105])\n",
    "pool = createPoolDB()\n",
    "\n",
    "\n",
    "# listToHash1 = []\n",
    "# listToHash1.append(sendCurrency(user1,user2,10))\n",
    "# listToHash1.append(sendCurrency(user2,user1,10))\n",
    "# listToHash1.append(sendCurrency(user3,user4,10))\n",
    "# listToHash1.append(sendCurrency(user4,user3,10))\n",
    "# listToHash1.append(sendCurrency(user5,user1,10))\n",
    "# listToHash1.append(sendCurrency(user1,user5,10))\n",
    "\n",
    "# s = Blockchain()\n",
    "# s.addBlock(listToHash1)\n",
    "# blockdict = s.head.__dict__\n",
    "# writeJsonBlock(blockdict)\n",
    "# print(blockdict)"
   ]
  },
  {
   "cell_type": "markdown",
   "metadata": {},
   "source": [
    "### Run a ROSCA and update trust value"
   ]
  },
  {
   "cell_type": "code",
   "execution_count": 6,
   "metadata": {},
   "outputs": [
    {
     "name": "stdout",
     "output_type": "stream",
     "text": [
      "the 1 meeting\n",
      "Pay success \n",
      "Pay success \n",
      "Pay success \n",
      "Pay success \n",
      "Pay success \n",
      "Bob has 6040\n",
      "the 2 meeting\n",
      "Pay success \n",
      "Pay success \n",
      "Pay success \n",
      "Pay success \n",
      "Pay success \n",
      "Amy has 6030\n",
      "the 3 meeting\n",
      "Pay success \n",
      "Pay success \n",
      "Pay success \n",
      "Pay success \n",
      "Pay success \n",
      "Lisa has 6020\n",
      "the 4 meeting\n",
      "Pay success \n",
      "Pay success \n",
      "Pay success \n",
      "Pay success \n",
      "Pay success \n",
      "Jason has 6010\n",
      "the 5 meeting\n",
      "Pay success \n",
      "Pay success \n",
      "Pay success \n",
      "Pay success \n",
      "Pay success \n",
      "Zoey has 6000\n"
     ]
    }
   ],
   "source": [
    "userlist = [user1, user2, user3, user4, user5]  \n",
    "runROSCA(5,10,userlist)"
   ]
  },
  {
   "cell_type": "code",
   "execution_count": 7,
   "metadata": {},
   "outputs": [
    {
     "data": {
      "text/plain": [
       "25.37688442211055"
      ]
     },
     "execution_count": 7,
     "metadata": {},
     "output_type": "execute_result"
    }
   ],
   "source": [
    "data1[101]"
   ]
  }
 ],
 "metadata": {
  "interpreter": {
   "hash": "9e84a28207fa3142fac91e47ec837e61497af1bc9f5436c38cd37de1c35b8cea"
  },
  "kernelspec": {
   "display_name": "Python 3 (ipykernel)",
   "language": "python",
   "name": "python3"
  },
  "language_info": {
   "codemirror_mode": {
    "name": "ipython",
    "version": 3
   },
   "file_extension": ".py",
   "mimetype": "text/x-python",
   "name": "python",
   "nbconvert_exporter": "python",
   "pygments_lexer": "ipython3",
   "version": "3.7.9"
  }
 },
 "nbformat": 4,
 "nbformat_minor": 2
}
