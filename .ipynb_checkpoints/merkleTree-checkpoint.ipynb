{
 "cells": [
  {
   "cell_type": "code",
   "execution_count": 18,
   "id": "6cd0f276",
   "metadata": {},
   "outputs": [],
   "source": [
    "class MerkleTree:\n",
    "    def __init__(self,values:[str]):\n",
    "        self.values = values"
   ]
  },
  {
   "cell_type": "code",
   "execution_count": 19,
   "id": "92071b73",
   "metadata": {},
   "outputs": [],
   "source": [
    "merkletrObj = MerkleTree(['Hello','World'])"
   ]
  },
  {
   "cell_type": "code",
   "execution_count": 35,
   "id": "fe296740",
   "metadata": {},
   "outputs": [
    {
     "name": "stdout",
     "output_type": "stream",
     "text": [
      "2cf24dba5fb0a30e26e83b2ac5b9e29e1b161e5c1fa7425e73043362938b9824\n",
      "486ea46224d1bb4fb680f34f7c9ad96a8f24ec88be73ea8e5a6c65260e9cb8a7\n",
      "15e178b71fae8849ee562c9cc0d7ea322fba6cd495411329d47234479167cc8b\n"
     ]
    }
   ],
   "source": [
    "import hashlib\n",
    "\n",
    "def hash(val: str)-> str:\n",
    "    return hashlib.sha256(val.encode(\"utf-8\")).hexdigest()\n",
    "leftNode = hash('hello')\n",
    "rightNode = hash('world')\n",
    "root = hash(leftNode + rightNode)\n",
    "print(leftNode)\n",
    "print(rightNode)\n",
    "print(root)"
   ]
  },
  {
   "cell_type": "code",
   "execution_count": null,
   "id": "ff6915f1",
   "metadata": {},
   "outputs": [],
   "source": []
  }
 ],
 "metadata": {
  "kernelspec": {
   "display_name": "Python 3 (ipykernel)",
   "language": "python",
   "name": "python3"
  },
  "language_info": {
   "codemirror_mode": {
    "name": "ipython",
    "version": 3
   },
   "file_extension": ".py",
   "mimetype": "text/x-python",
   "name": "python",
   "nbconvert_exporter": "python",
   "pygments_lexer": "ipython3",
   "version": "3.9.7"
  }
 },
 "nbformat": 4,
 "nbformat_minor": 5
}
