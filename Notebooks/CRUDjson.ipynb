{
 "cells": [
  {
   "cell_type": "code",
   "execution_count": 1,
   "metadata": {},
   "outputs": [],
   "source": [
    "\n",
    "import json\n",
    "\n",
    "def load_data():\n",
    "    with open('course.json') as f: #specify the file name\n",
    "        return json.load(f)"
   ]
  },
  {
   "cell_type": "code",
   "execution_count": 2,
   "metadata": {},
   "outputs": [],
   "source": [
    "\n",
    "id = input('Enter Id to find Id of course in json')\n",
    "\n",
    "# Calling the JSON function to read the entire file and store it into variable # You can find the function at https://gist.github.com/xaviruvpadhiyar98/bd4c14420b7033c70f8607201e959d07\n",
    "json_data = load_data()\t\n",
    "\n",
    "def get_one_item_from_json(id):\n",
    "    for x in json_data:\n",
    "        if x['id'] == id:\n",
    "            return x \n",
    "get_one_item_from_json(id)"
   ]
  },
  {
   "cell_type": "code",
   "execution_count": 9,
   "metadata": {},
   "outputs": [],
   "source": [
    "json_data[0]['price'] = 30"
   ]
  },
  {
   "cell_type": "code",
   "execution_count": 4,
   "metadata": {},
   "outputs": [],
   "source": [
    "#Append data\n",
    "\n",
    "data = {\n",
    "    \"id\": 201, \n",
    "    \"date_created\": \"2021-03-01 17:00:04.252143\", \n",
    "    \"date_updated\": \"2021-03-01 17:00:04.252143\", \n",
    "    \"description\": \"This is a brand new course\", \n",
    "    \"discount_price\": 5.0, \n",
    "    \"image_path\": \"images/some/path/foo.jpg\", \n",
    "    \"on_discount\": False, \n",
    "    \"price\": 25.0, \n",
    "    \"title\": \"Brand new course\"\n",
    "  }\n",
    "\n",
    "json_data = load_data()\t# Calling the JSON function to read the entire file and store it into variable # You can find the function at https://gist.github.com/xaviruvpadhiyar98/bd4c14420b7033c70f8607201e959d07\n",
    "\n",
    "json_data.append(data)\t# Appending data to existing json_data\n",
    "\n",
    "def save_data(json_data):\n",
    "    with open('course.json', 'w') as f:\n",
    "        json.dump(json_data, f, indent=4)\n",
    "\n",
    "save_data(json_data)"
   ]
  },
  {
   "cell_type": "code",
   "execution_count": 5,
   "metadata": {},
   "outputs": [],
   "source": [
    "#delete data\n",
    "\n",
    "json_data = load_data()\n",
    "\n",
    "\n",
    "del json_data[201]\n",
    "\n",
    "# and Finally Save the file with save_json_data function # https://gist.github.com/xaviruvpadhiyar98/74403304572bf7b8299c0a5afd8b6e3c\n",
    "save_data(json_data)"
   ]
  },
  {
   "cell_type": "code",
   "execution_count": 7,
   "metadata": {},
   "outputs": [],
   "source": [
    "# Download the course.json from this link https://github.com/xaviruvpadhiyar98/JSON-CRUD/blob/main/json/course.json\n",
    "\n",
    "import json\n",
    "\n",
    "# Load the File\n",
    "def load_data():\n",
    "    with open('json/course.json') as f:\n",
    "        return json.load(f)\n",
    "\n",
    "# Save the file with new data\n",
    "def save_data(json_data):\n",
    "    with open('json\\course.json', 'w') as f:\n",
    "        json.dump(json_data, f, indent=4)\n",
    "\n",
    "# Read an Item from file        \n",
    "def get_one_item_from_json(id):\n",
    "\tfor x in json_data:\n",
    "\t\tif x['id'] == id:\n",
    "\t\t\treturn x\n",
    "\n",
    "# Create New Item and save it into file\n",
    "def create_one_item_in_json(d):\n",
    "\tjson_data.append(d)\n",
    "\tsave_data(json_data)\n",
    "\n",
    "# Delete One Item from Json\n",
    "def delete_one_item_from_json(id):\n",
    "\tdel json_data[id]\n",
    "\tsave_data(json_data)\n",
    "\n",
    "# Update One Item from JSON\n",
    "def update_one_item_in_json(id, data):\n",
    "\tjson_data[id] = data\n",
    "\tsave_data(json_data)"
   ]
  },
  {
   "cell_type": "code",
   "execution_count": 18,
   "metadata": {},
   "outputs": [],
   "source": [
    "#update Json file\n",
    "json_data[0]['price'] = 40\n",
    "json_object = json_data\n",
    "# a_file = open(\"course.json\", \"w\")\n",
    "# json.dump(json_object, a_file)\n",
    "# a_file.close()"
   ]
  }
 ],
 "metadata": {
  "interpreter": {
   "hash": "9e84a28207fa3142fac91e47ec837e61497af1bc9f5436c38cd37de1c35b8cea"
  },
  "kernelspec": {
   "display_name": "Python 3 (ipykernel)",
   "language": "python",
   "name": "python3"
  },
  "language_info": {
   "codemirror_mode": {
    "name": "ipython",
    "version": 3
   },
   "file_extension": ".py",
   "mimetype": "text/x-python",
   "name": "python",
   "nbconvert_exporter": "python",
   "pygments_lexer": "ipython3",
   "version": "3.7.9"
  }
 },
 "nbformat": 4,
 "nbformat_minor": 2
}
