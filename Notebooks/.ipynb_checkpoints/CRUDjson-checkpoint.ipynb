{
 "cells": [
  {
   "cell_type": "code",
   "execution_count": 1,
   "metadata": {},
   "outputs": [],
   "source": [
    "import json\n",
    "\n",
    "def load_data():\n",
    "    with open('json/course.json') as f: #specify the file name\n",
    "        return json.load(f)"
   ]
  },
  {
   "cell_type": "code",
   "execution_count": null,
   "metadata": {},
   "outputs": [],
   "source": [
    "json_data = load_data()\n",
    "\n",
    "id = input('Enter Id to Delete the item associated with it')\n",
    "del json_data[id]\n",
    "\n",
    "# and Finally Save the file with save_json_data function # https://gist.github.com/xaviruvpadhiyar98/74403304572bf7b8299c0a5afd8b6e3c\n",
    "save_json_data(json_data)"
   ]
  }
 ],
 "metadata": {
  "interpreter": {
   "hash": "9e84a28207fa3142fac91e47ec837e61497af1bc9f5436c38cd37de1c35b8cea"
  },
  "kernelspec": {
   "display_name": "Python 3 (ipykernel)",
   "language": "python",
   "name": "python3"
  },
  "language_info": {
   "codemirror_mode": {
    "name": "ipython",
    "version": 3
   },
   "file_extension": ".py",
   "mimetype": "text/x-python",
   "name": "python",
   "nbconvert_exporter": "python",
   "pygments_lexer": "ipython3",
   "version": "3.9.7"
  }
 },
 "nbformat": 4,
 "nbformat_minor": 2
}
