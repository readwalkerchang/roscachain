{
 "cells": [
  {
   "cell_type": "code",
   "execution_count": 43,
   "id": "6cd0f276",
   "metadata": {},
   "outputs": [],
   "source": [
    "import hashlib\n",
    "class MerkleTree:\n",
    "    def __init__(self,values:list):\n",
    "        self.values = values\n",
    "\n",
    "    def hash(val: str)-> str:\n",
    "        return hashlib.sha256(val.encode(\"utf-8\")).hexdigest()"
   ]
  },
  {
   "cell_type": "code",
   "execution_count": 44,
   "id": "92071b73",
   "metadata": {},
   "outputs": [],
   "source": [
    "merkletrObj = MerkleTree(['Hello','World'])"
   ]
  },
  {
   "cell_type": "code",
   "execution_count": 45,
   "id": "fe296740",
   "metadata": {},
   "outputs": [
    {
     "name": "stdout",
     "output_type": "stream",
     "text": [
      "2cf24dba5fb0a30e26e83b2ac5b9e29e1b161e5c1fa7425e73043362938b9824\n",
      "486ea46224d1bb4fb680f34f7c9ad96a8f24ec88be73ea8e5a6c65260e9cb8a7\n",
      "15e178b71fae8849ee562c9cc0d7ea322fba6cd495411329d47234479167cc8b\n"
     ]
    }
   ],
   "source": [
    "import hashlib\n",
    "\n",
    "def hash(val: str)-> str:\n",
    "    return hashlib.sha256(val.encode(\"utf-8\")).hexdigest()\n",
    "leftNode = hash('hello')\n",
    "rightNode = hash('world')\n",
    "root = hash(leftNode + rightNode)\n",
    "print(leftNode)\n",
    "print(rightNode)\n",
    "print(root)"
   ]
  },
  {
   "cell_type": "code",
   "execution_count": 51,
   "id": "ff6915f1",
   "metadata": {},
   "outputs": [
    {
     "data": {
      "text/plain": [
       "[]"
      ]
     },
     "execution_count": 51,
     "metadata": {},
     "output_type": "execute_result"
    }
   ],
   "source": [
    "listToHash = ['hello','world','hello','world']\n",
    "branchList = []\n",
    "\n",
    "def CreateBranch(left,right):\n",
    "    return hash(hash(left)+hash(right))\n",
    "\n",
    "def BuildTree(inputList:list):\n",
    "    while(len(listToHash) > 0):\n",
    "        left = inputList.pop(0)\n",
    "        right = inputList.pop(0)\n",
    "        branchList.append(CreateBranch(left,right))\n",
    "\n",
    "    if(len(branchList) == 1):\n",
    "        return branchList[0]\n",
    "\n",
    "branchList"
   ]
  },
  {
   "cell_type": "code",
   "execution_count": 47,
   "id": "46c28dd5",
   "metadata": {},
   "outputs": [
    {
     "data": {
      "text/plain": [
       "4"
      ]
     },
     "execution_count": 47,
     "metadata": {},
     "output_type": "execute_result"
    }
   ],
   "source": [
    "len(listToHash)"
   ]
  },
  {
   "cell_type": "code",
   "execution_count": null,
   "id": "bf1c8b7f",
   "metadata": {},
   "outputs": [],
   "source": []
  }
 ],
 "metadata": {
  "kernelspec": {
   "display_name": "Python 3 (ipykernel)",
   "language": "python",
   "name": "python3"
  },
  "language_info": {
   "codemirror_mode": {
    "name": "ipython",
    "version": 3
   },
   "file_extension": ".py",
   "mimetype": "text/x-python",
   "name": "python",
   "nbconvert_exporter": "python",
   "pygments_lexer": "ipython3",
   "version": "3.9.7"
  }
 },
 "nbformat": 4,
 "nbformat_minor": 5
}
